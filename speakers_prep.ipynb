{
 "cells": [
  {
   "cell_type": "code",
   "id": "initial_id",
   "metadata": {
    "collapsed": true,
    "ExecuteTime": {
     "end_time": "2025-02-18T23:46:20.198554Z",
     "start_time": "2025-02-18T23:46:20.043437Z"
    }
   },
   "source": [
    "import importlib\n",
    "import utils.file_utils as fu\n",
    "importlib.reload(fu)\n",
    "\n",
    "df = fu.load_dataset(header=[\"Speaker\", \"Year\", \"Topic\"])\n",
    "df.head()\n"
   ],
   "outputs": [
    {
     "name": "stdout",
     "output_type": "stream",
     "text": [
      "Loaded 3492 records from C:\\data\\around-work\\academinc-work\\2025\\css\\css.csv\n",
      "Columns: Index(['Type', 'Speaker', 'Topic', 'Year'], dtype='object')\n",
      "Adding column \"combined\"\n"
     ]
    },
    {
     "data": {
      "text/plain": [
       "                                       Speaker  Year  \\\n",
       "0                                 Michael Macy  2015   \n",
       "1                                Jure Leskovec  2015   \n",
       "2  Omar Guerrero, Eduardo Lopez, Robert Axtell  2015   \n",
       "3                                 Duncan Watts  2015   \n",
       "4                              Matthew Jackson  2015   \n",
       "\n",
       "                                               Topic  \\\n",
       "0  Opportunities and challenges for computational...   \n",
       "1  Structure and dynamics of information propagation   \n",
       "2  Labor flows and unemployment mediated by networks   \n",
       "3  An experimental study of collective self-organ...   \n",
       "4  Multiplexing and the interaction between borro...   \n",
       "\n",
       "                                            combined  \n",
       "0  Speaker: Michael Macy; Year: 2015; Topic: Oppo...  \n",
       "1  Speaker: Jure Leskovec; Year: 2015; Topic: Str...  \n",
       "2  Speaker: Omar Guerrero, Eduardo Lopez, Robert ...  \n",
       "3  Speaker: Duncan Watts; Year: 2015; Topic: An e...  \n",
       "4  Speaker: Matthew Jackson; Year: 2015; Topic: M...  "
      ],
      "text/html": [
       "<div>\n",
       "<style scoped>\n",
       "    .dataframe tbody tr th:only-of-type {\n",
       "        vertical-align: middle;\n",
       "    }\n",
       "\n",
       "    .dataframe tbody tr th {\n",
       "        vertical-align: top;\n",
       "    }\n",
       "\n",
       "    .dataframe thead th {\n",
       "        text-align: right;\n",
       "    }\n",
       "</style>\n",
       "<table border=\"1\" class=\"dataframe\">\n",
       "  <thead>\n",
       "    <tr style=\"text-align: right;\">\n",
       "      <th></th>\n",
       "      <th>Speaker</th>\n",
       "      <th>Year</th>\n",
       "      <th>Topic</th>\n",
       "      <th>combined</th>\n",
       "    </tr>\n",
       "  </thead>\n",
       "  <tbody>\n",
       "    <tr>\n",
       "      <th>0</th>\n",
       "      <td>Michael Macy</td>\n",
       "      <td>2015</td>\n",
       "      <td>Opportunities and challenges for computational...</td>\n",
       "      <td>Speaker: Michael Macy; Year: 2015; Topic: Oppo...</td>\n",
       "    </tr>\n",
       "    <tr>\n",
       "      <th>1</th>\n",
       "      <td>Jure Leskovec</td>\n",
       "      <td>2015</td>\n",
       "      <td>Structure and dynamics of information propagation</td>\n",
       "      <td>Speaker: Jure Leskovec; Year: 2015; Topic: Str...</td>\n",
       "    </tr>\n",
       "    <tr>\n",
       "      <th>2</th>\n",
       "      <td>Omar Guerrero, Eduardo Lopez, Robert Axtell</td>\n",
       "      <td>2015</td>\n",
       "      <td>Labor flows and unemployment mediated by networks</td>\n",
       "      <td>Speaker: Omar Guerrero, Eduardo Lopez, Robert ...</td>\n",
       "    </tr>\n",
       "    <tr>\n",
       "      <th>3</th>\n",
       "      <td>Duncan Watts</td>\n",
       "      <td>2015</td>\n",
       "      <td>An experimental study of collective self-organ...</td>\n",
       "      <td>Speaker: Duncan Watts; Year: 2015; Topic: An e...</td>\n",
       "    </tr>\n",
       "    <tr>\n",
       "      <th>4</th>\n",
       "      <td>Matthew Jackson</td>\n",
       "      <td>2015</td>\n",
       "      <td>Multiplexing and the interaction between borro...</td>\n",
       "      <td>Speaker: Matthew Jackson; Year: 2015; Topic: M...</td>\n",
       "    </tr>\n",
       "  </tbody>\n",
       "</table>\n",
       "</div>"
      ]
     },
     "execution_count": 50,
     "metadata": {},
     "output_type": "execute_result"
    }
   ],
   "execution_count": 50
  },
  {
   "metadata": {
    "ExecuteTime": {
     "end_time": "2025-02-18T23:46:20.408362Z",
     "start_time": "2025-02-18T23:46:20.348730Z"
    }
   },
   "cell_type": "code",
   "source": [
    "df['Speakers'] = df['Speaker']\n",
    "df_exploded = df.assign(Speaker=df[\"Speaker\"].str.split(\", \")).explode(\"Speaker\")\n",
    "\n",
    "df_exploded.head()"
   ],
   "id": "c9a54142e643beea",
   "outputs": [
    {
     "data": {
      "text/plain": [
       "         Speaker  Year                                              Topic  \\\n",
       "0   Michael Macy  2015  Opportunities and challenges for computational...   \n",
       "1  Jure Leskovec  2015  Structure and dynamics of information propagation   \n",
       "2  Omar Guerrero  2015  Labor flows and unemployment mediated by networks   \n",
       "2  Eduardo Lopez  2015  Labor flows and unemployment mediated by networks   \n",
       "2  Robert Axtell  2015  Labor flows and unemployment mediated by networks   \n",
       "\n",
       "                                            combined  \\\n",
       "0  Speaker: Michael Macy; Year: 2015; Topic: Oppo...   \n",
       "1  Speaker: Jure Leskovec; Year: 2015; Topic: Str...   \n",
       "2  Speaker: Omar Guerrero, Eduardo Lopez, Robert ...   \n",
       "2  Speaker: Omar Guerrero, Eduardo Lopez, Robert ...   \n",
       "2  Speaker: Omar Guerrero, Eduardo Lopez, Robert ...   \n",
       "\n",
       "                                      Speakers  \n",
       "0                                 Michael Macy  \n",
       "1                                Jure Leskovec  \n",
       "2  Omar Guerrero, Eduardo Lopez, Robert Axtell  \n",
       "2  Omar Guerrero, Eduardo Lopez, Robert Axtell  \n",
       "2  Omar Guerrero, Eduardo Lopez, Robert Axtell  "
      ],
      "text/html": [
       "<div>\n",
       "<style scoped>\n",
       "    .dataframe tbody tr th:only-of-type {\n",
       "        vertical-align: middle;\n",
       "    }\n",
       "\n",
       "    .dataframe tbody tr th {\n",
       "        vertical-align: top;\n",
       "    }\n",
       "\n",
       "    .dataframe thead th {\n",
       "        text-align: right;\n",
       "    }\n",
       "</style>\n",
       "<table border=\"1\" class=\"dataframe\">\n",
       "  <thead>\n",
       "    <tr style=\"text-align: right;\">\n",
       "      <th></th>\n",
       "      <th>Speaker</th>\n",
       "      <th>Year</th>\n",
       "      <th>Topic</th>\n",
       "      <th>combined</th>\n",
       "      <th>Speakers</th>\n",
       "    </tr>\n",
       "  </thead>\n",
       "  <tbody>\n",
       "    <tr>\n",
       "      <th>0</th>\n",
       "      <td>Michael Macy</td>\n",
       "      <td>2015</td>\n",
       "      <td>Opportunities and challenges for computational...</td>\n",
       "      <td>Speaker: Michael Macy; Year: 2015; Topic: Oppo...</td>\n",
       "      <td>Michael Macy</td>\n",
       "    </tr>\n",
       "    <tr>\n",
       "      <th>1</th>\n",
       "      <td>Jure Leskovec</td>\n",
       "      <td>2015</td>\n",
       "      <td>Structure and dynamics of information propagation</td>\n",
       "      <td>Speaker: Jure Leskovec; Year: 2015; Topic: Str...</td>\n",
       "      <td>Jure Leskovec</td>\n",
       "    </tr>\n",
       "    <tr>\n",
       "      <th>2</th>\n",
       "      <td>Omar Guerrero</td>\n",
       "      <td>2015</td>\n",
       "      <td>Labor flows and unemployment mediated by networks</td>\n",
       "      <td>Speaker: Omar Guerrero, Eduardo Lopez, Robert ...</td>\n",
       "      <td>Omar Guerrero, Eduardo Lopez, Robert Axtell</td>\n",
       "    </tr>\n",
       "    <tr>\n",
       "      <th>2</th>\n",
       "      <td>Eduardo Lopez</td>\n",
       "      <td>2015</td>\n",
       "      <td>Labor flows and unemployment mediated by networks</td>\n",
       "      <td>Speaker: Omar Guerrero, Eduardo Lopez, Robert ...</td>\n",
       "      <td>Omar Guerrero, Eduardo Lopez, Robert Axtell</td>\n",
       "    </tr>\n",
       "    <tr>\n",
       "      <th>2</th>\n",
       "      <td>Robert Axtell</td>\n",
       "      <td>2015</td>\n",
       "      <td>Labor flows and unemployment mediated by networks</td>\n",
       "      <td>Speaker: Omar Guerrero, Eduardo Lopez, Robert ...</td>\n",
       "      <td>Omar Guerrero, Eduardo Lopez, Robert Axtell</td>\n",
       "    </tr>\n",
       "  </tbody>\n",
       "</table>\n",
       "</div>"
      ]
     },
     "execution_count": 51,
     "metadata": {},
     "output_type": "execute_result"
    }
   ],
   "execution_count": 51
  },
  {
   "metadata": {
    "ExecuteTime": {
     "end_time": "2025-02-18T23:46:20.789438Z",
     "start_time": "2025-02-18T23:46:20.675981Z"
    }
   },
   "cell_type": "code",
   "source": [
    "speakers_per_year = df_exploded.groupby(\"Year\")[\"Speakers\"].nunique().sort_index()\n",
    "speaker_per_year = df_exploded.groupby(\"Year\")[\"Speaker\"].nunique().sort_index()\n",
    "publication_count_per_speakers = df.groupby(\"Speakers\")[\"Year\"].count().reset_index(name=\"Publication Count\").sort_values(by=\"Publication Count\", ascending=False)\n",
    "publication_count_per_speaker = df_exploded.groupby(\"Speaker\")[\"Year\"].count().reset_index(name=\"Publication Count\").sort_values(by=\"Publication Count\", ascending=False)\n",
    "first_last_publication_by_speakers = df.groupby(\"Speakers\")[\"Year\"].agg([\"min\", \"max\", \"count\"]).sort_values(by=[\"min\", \"max\", \"count\"])\n",
    "first_last_publication_by_speaker = df_exploded.groupby(\"Speaker\")[\"Year\"].agg([\"min\", \"max\", \"count\"]).sort_values(by=[\"min\", \"max\", \"count\"])\n",
    "publications_per_year = df[\"Year\"].value_counts().sort_index()\n",
    "\n",
    "\n",
    "speakers = df['Speaker'].nunique()\n",
    "print(f'Number of unique speakers:\\n{speakers}')\n",
    "print(f'Number of speakers (combined) per year:\\n{speakers_per_year}')\n",
    "print(f'Number of speakers per year:\\n{speaker_per_year}')\n",
    "print(f'Number of publications per speakers (combined):\\n{publication_count_per_speakers}')\n",
    "print(f'Number of publications per speaker:\\n{publication_count_per_speaker}')\n",
    "print(f'First and last publication per speakers (combined):\\n{first_last_publication_by_speakers}')\n",
    "print(f'First and last publication per speaker:\\n{first_last_publication_by_speaker}')\n",
    "print(f'Publications per year:\\n{publications_per_year}')\n"
   ],
   "id": "a279e5c5e1c48443",
   "outputs": [
    {
     "name": "stdout",
     "output_type": "stream",
     "text": [
      "Number of unique speakers:\n",
      "3322\n",
      "Number of speakers (combined) per year:\n",
      "Year\n",
      "2015    305\n",
      "2016    233\n",
      "2017    211\n",
      "2018    235\n",
      "2019    372\n",
      "2020    428\n",
      "2021    274\n",
      "2022    153\n",
      "2023    603\n",
      "2024    615\n",
      "Name: Speakers, dtype: int64\n",
      "Number of speakers per year:\n",
      "Year\n",
      "2015     795\n",
      "2016     568\n",
      "2017     542\n",
      "2018     530\n",
      "2019     858\n",
      "2020     988\n",
      "2021     703\n",
      "2022     416\n",
      "2023    1482\n",
      "2024    1358\n",
      "Name: Speaker, dtype: int64\n",
      "Number of publications per speakers (combined):\n",
      "                                               Speakers  Publication Count\n",
      "1564                                       Ivan Smirnov                  6\n",
      "2781  Santa Agreste, Pasquale De Meo, Emilio Ferrara...                  4\n",
      "495   Asael H Sorensen, Asmeret Naugle, Casey Doyle,...                  4\n",
      "2968                                       Taha Yasseri                  4\n",
      "2928                                  Subhayan Mukerjee                  3\n",
      "...                                                 ...                ...\n",
      "1125       Elena Pavan, Anna Bertani, Riccardo Gallotti                  1\n",
      "1126                   Eleonora Patacchini, Chris Rojas                  1\n",
      "1127   Elham Aghakhani, Layla Bouzoubaa, Shadi Rezapour                  1\n",
      "1128  Elias Najarro, Claire Glanois, Louisa Jane Di ...                  1\n",
      "3321           niko Hannak, Drew Margolin, Ingmar Weber                  1\n",
      "\n",
      "[3322 rows x 2 columns]\n",
      "Number of publications per speaker:\n",
      "                Speaker  Publication Count\n",
      "187       Alex Pentland                 70\n",
      "809          Brian Uzzi                 46\n",
      "610     Ashton Anderson                 45\n",
      "2315        Iyad Rahwan                 45\n",
      "4610        Robert West                 40\n",
      "...                 ...                ...\n",
      "2347        Jaehong Ahn                  1\n",
      "2346          Jaeho Cho                  1\n",
      "2344       Jacques Bara                  1\n",
      "2342  Jacqueline Hannan                  1\n",
      "6012    Şükrü Atsızelti                  1\n",
      "\n",
      "[6013 rows x 2 columns]\n",
      "First and last publication per speakers (combined):\n",
      "                                                     min   max  count\n",
      "Speakers                                                             \n",
      "Aamena Alshamsi, Fabio Pianesi, Bruno Lepri, Iy...  2015  2015      1\n",
      "Abdullah Almaatouq, Alex Pentland, Erez Shmueli     2015  2015      1\n",
      "Abel Camacho Guardian, Radu Tanase, Claudio Tes...  2015  2015      1\n",
      "Abhijin Adiga, Richard Beckman, Keith Bisset, J...  2015  2015      1\n",
      "Adrian Bruhin, Lorenz Goette, Simon Haenni, Lin...  2015  2015      1\n",
      "...                                                  ...   ...    ...\n",
      "Filippo Menczer, Kai-Cheng Yang                     2024  2024      2\n",
      "Sukie Xiuqi Yang                                    2024  2024      2\n",
      "Xuechunzi Bai                                       2024  2024      2\n",
      "Arianna Pera, Luca Maria Aiello                     2024  2024      3\n",
      "Asael H Sorensen, Asmeret Naugle, Casey Doyle, ...  2024  2024      4\n",
      "\n",
      "[3322 rows x 3 columns]\n",
      "First and last publication per speaker:\n",
      "                        min   max  count\n",
      "Speaker                                 \n",
      "Abel Camacho Guardian  2015  2015      1\n",
      "Abhijin Adiga          2015  2015      1\n",
      "Abid Hussain           2015  2015      1\n",
      "Achla Marathe          2015  2015      1\n",
      "Adam Okulicz-Kozaryn   2015  2015      1\n",
      "...                     ...   ...    ...\n",
      "Grant Schoenebeck      2024  2024      4\n",
      "Hazem Ibrahim          2024  2024      4\n",
      "Kathleen M. Carley     2024  2024      4\n",
      "Yasir Zaki             2024  2024      4\n",
      "Matt Sweitzer          2024  2024      5\n",
      "\n",
      "[6013 rows x 3 columns]\n",
      "Publications per year:\n",
      "2015    310\n",
      "2016    235\n",
      "2017    213\n",
      "2018    238\n",
      "2019    379\n",
      "2020    434\n",
      "2021    280\n",
      "2022    154\n",
      "2023    616\n",
      "2024    631\n",
      "Name: Year, dtype: int64\n"
     ]
    }
   ],
   "execution_count": 52
  },
  {
   "metadata": {
    "ExecuteTime": {
     "end_time": "2025-02-19T00:39:02.032728Z",
     "start_time": "2025-02-19T00:39:01.749927Z"
    }
   },
   "cell_type": "code",
   "source": [
    "import matplotlib.pyplot as plt\n",
    "\n",
    "publications_per_year.plot(kind=\"bar\")\n",
    "plt.xlabel(\"Year\")\n",
    "plt.ylabel(\"Number of Publications\")\n",
    "plt.title(\"Publications Per Year\")\n",
    "plt.show()"
   ],
   "id": "da20780ab10c73c8",
   "outputs": [
    {
     "data": {
      "text/plain": [
       "<Figure size 432x288 with 1 Axes>"
      ],
      "image/png": "[encoded data removed]"
     },
     "metadata": {
      "needs_background": "light"
     },
     "output_type": "display_data"
    }
   ],
   "execution_count": 54
  },
  {
   "metadata": {
    "ExecuteTime": {
     "end_time": "2025-02-19T00:41:46.586896Z",
     "start_time": "2025-02-19T00:41:46.253603Z"
    }
   },
   "cell_type": "code",
   "source": [
    "speaker_per_year.plot(kind=\"bar\")\n",
    "plt.xlabel(\"Year\")\n",
    "plt.ylabel(\"Number of Publications\")\n",
    "plt.title(\"Speakers Per Year\")\n",
    "plt.show()"
   ],
   "id": "cb27ef2eec5cae56",
   "outputs": [
    {
     "data": {
      "text/plain": [
       "<Figure size 432x288 with 1 Axes>"
      ],
      "image/png": "[encoded data removed]"
     },
     "metadata": {
      "needs_background": "light"
     },
     "output_type": "display_data"
    }
   ],
   "execution_count": 57
  },
  {
   "metadata": {
    "ExecuteTime": {
     "end_time": "2025-02-19T00:41:26.792949Z",
     "start_time": "2025-02-19T00:41:26.479336Z"
    }
   },
   "cell_type": "code",
   "source": [
    "speakers_per_year.plot(kind=\"bar\")\n",
    "plt.xlabel(\"Year\")\n",
    "plt.ylabel(\"Number of Publications\")\n",
    "plt.title(\"Speakers (combined) Per Year\")\n",
    "plt.show()\n"
   ],
   "id": "3e8ebf914148887b",
   "outputs": [
    {
     "data": {
      "text/plain": [
       "<Figure size 432x288 with 1 Axes>"
      ],
      "image/png": "[encoded data removed]"
     },
     "metadata": {
      "needs_background": "light"
     },
     "output_type": "display_data"
    }
   ],
   "execution_count": 56
  }
 ],
 "metadata": {
  "kernelspec": {
   "display_name": "Python 3",
   "language": "python",
   "name": "python3"
  },
  "language_info": {
   "codemirror_mode": {
    "name": "ipython",
    "version": 2
   },
   "file_extension": ".py",
   "mimetype": "text/x-python",
   "name": "python",
   "nbconvert_exporter": "python",
   "pygments_lexer": "ipython2",
   "version": "2.7.6"
  }
 },
 "nbformat": 4,
 "nbformat_minor": 5
}
